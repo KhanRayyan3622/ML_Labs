{
 "cells": [
  {
   "cell_type": "code",
   "execution_count": 1,
   "id": "045e84a0",
   "metadata": {},
   "outputs": [],
   "source": []
  },
  {
   "cell_type": "markdown",
   "id": "675f9d51",
   "metadata": {},
   "source": [
    "# Question 1"
   ]
  },
  {
   "cell_type": "code",
   "execution_count": 2,
   "id": "ceb9b88e",
   "metadata": {
    "scrolled": true
   },
   "outputs": [
    {
     "name": "stdout",
     "output_type": "stream",
     "text": [
      "Selected features using Information Gain (IG) method:\n",
      "['location_id', 'latitude', 'longitude', 'area_sqft', 'area_marla', 'bedrooms', 'baths', 'property_id', 'day', 'year', 'month']\n"
     ]
    }
   ],
   "source": [
    "import pandas as pd\n",
    "from sklearn.feature_selection import SelectKBest, mutual_info_classif\n",
    "\n",
    "data = pd.read_csv('property.csv')\n",
    "X = data.select_dtypes(include=['float64', 'int64'])\n",
    "\n",
    "X = X.drop(columns=['price'])  # Assuming 'price' is the target variable\n",
    "y = data['price']\n",
    "\n",
    "ig_selector = SelectKBest(mutual_info_classif, k='all')\n",
    "ig_selector.fit(X, y)\n",
    "ig_scores = pd.DataFrame({'Feature': X.columns, 'IG Score': ig_selector.scores_})\n",
    "ig_selected_features = ig_scores.sort_values(by='IG Score', ascending=False)['Feature'].tolist()\n",
    "\n",
    "print(\"Selected features using Information Gain (IG) method:\")\n",
    "print(ig_selected_features)"
   ]
  },
  {
   "cell_type": "markdown",
   "id": "86aafcf6",
   "metadata": {},
   "source": [
    "# Question 2"
   ]
  },
  {
   "cell_type": "code",
   "execution_count": 3,
   "id": "b258f8c5",
   "metadata": {},
   "outputs": [
    {
     "name": "stdout",
     "output_type": "stream",
     "text": [
      "Selected features using χ^2 (chi-square) method:\n",
      "['area_sqft', 'property_id', 'location_id', 'area_marla', 'baths', 'bedrooms', 'day', 'latitude', 'month', 'longitude', 'year']\n"
     ]
    }
   ],
   "source": [
    "import pandas as pd\n",
    "from sklearn.feature_selection import SelectKBest, chi2\n",
    "\n",
    "data = pd.read_csv('property.csv')\n",
    "\n",
    "X = data.select_dtypes(include=['float64', 'int64'])\n",
    "\n",
    "X = X.drop(columns=['price'])\n",
    "y = data['price']\n",
    "\n",
    "chi2_selector = SelectKBest(chi2, k='all')\n",
    "chi2_selector.fit(X, y)\n",
    "chi2_scores = pd.DataFrame({'Feature': X.columns, 'Chi2 Score': chi2_selector.scores_})\n",
    "chi2_selected_features = chi2_scores.sort_values(by='Chi2 Score', ascending=False)['Feature'].tolist()\n",
    "\n",
    "print(\"Selected features using χ^2 (chi-square) method:\")\n",
    "print(chi2_selected_features)"
   ]
  },
  {
   "cell_type": "markdown",
   "id": "26fddc0b",
   "metadata": {},
   "source": [
    "# Question 3"
   ]
  },
  {
   "cell_type": "code",
   "execution_count": 4,
   "id": "b3ebd5cf",
   "metadata": {},
   "outputs": [
    {
     "name": "stdout",
     "output_type": "stream",
     "text": [
      "Selected features using Correlation & Variance methods:\n",
      "['property_id', 'location_id', 'price', 'latitude', 'longitude', 'baths', 'area_marla', 'area_sqft', 'bedrooms', 'year', 'month', 'day']\n"
     ]
    }
   ],
   "source": [
    "import pandas as pd\n",
    "from sklearn.feature_selection import VarianceThreshold\n",
    "\n",
    "data = pd.read_csv('property.csv')\n",
    "\n",
    "X = data.select_dtypes(include=['float64', 'int64'])\n",
    "\n",
    "correlation_matrix = X.corr()\n",
    "variance_selector = VarianceThreshold()\n",
    "variance_selector.fit(X)\n",
    "variance_selected_features = X.columns[variance_selector.get_support()].tolist()\n",
    "\n",
    "print(\"Selected features using Correlation & Variance methods:\")\n",
    "print(variance_selected_features)"
   ]
  },
  {
   "cell_type": "markdown",
   "id": "1f5f11ef",
   "metadata": {},
   "source": [
    "# Question 4"
   ]
  },
  {
   "cell_type": "code",
   "execution_count": 6,
   "id": "7486b8a5",
   "metadata": {},
   "outputs": [
    {
     "name": "stdout",
     "output_type": "stream",
     "text": [
      "Missing values in numeric data:\n",
      "property_id    0\n",
      "location_id    0\n",
      "price          0\n",
      "latitude       0\n",
      "longitude      0\n",
      "baths          0\n",
      "area_marla     0\n",
      "area_sqft      0\n",
      "bedrooms       0\n",
      "year           0\n",
      "month          0\n",
      "day            0\n",
      "dtype: int64\n",
      "Selected Features based on Correlation and Variance Methods:\n",
      "Index([], dtype='object')\n"
     ]
    }
   ],
   "source": [
    "import pandas as pd\n",
    "from sklearn.impute import SimpleImputer\n",
    "\n",
    "# Read the dataset\n",
    "data = pd.read_csv('property.csv')\n",
    "\n",
    "# Select numeric features\n",
    "numeric_data = data.select_dtypes(include=['number'])\n",
    "\n",
    "# Check for missing values\n",
    "missing_values = numeric_data.isnull().sum()\n",
    "print(\"Missing values in numeric data:\")\n",
    "print(missing_values)\n",
    "\n",
    "# Impute missing values with mean\n",
    "imputer = SimpleImputer(strategy='mean')\n",
    "numeric_data_imputed = pd.DataFrame(imputer.fit_transform(numeric_data), columns=numeric_data.columns)\n",
    "\n",
    "# Define target variable and features\n",
    "X = numeric_data_imputed.drop(columns=['price'])  # Replace 'price' with the name of your target variable\n",
    "y = numeric_data_imputed['price']\n",
    "\n",
    "# Calculate correlation with target variable and variance\n",
    "correlation = X.corrwith(y)\n",
    "variance = X.var()\n",
    "\n",
    "# Select features based on correlation and variance thresholds\n",
    "selected_features = X.columns[(correlation.abs() > 0.5) & (variance > 0.1)]\n",
    "\n",
    "# Display selected features\n",
    "print(\"Selected Features based on Correlation and Variance Methods:\")\n",
    "print(selected_features)\n"
   ]
  },
  {
   "cell_type": "markdown",
   "id": "be777834",
   "metadata": {},
   "source": [
    "# Question 5"
   ]
  },
  {
   "cell_type": "code",
   "execution_count": 11,
   "id": "7bb6f428",
   "metadata": {},
   "outputs": [
    {
     "name": "stdout",
     "output_type": "stream",
     "text": [
      "Selected Features based on Mean Absolute Difference (MAD) Method:\n",
      "Index(['Insulin', 'Glucose', 'SkinThickness', 'BloodPressure', 'Age'], dtype='object')\n"
     ]
    }
   ],
   "source": [
    "import pandas as pd\n",
    "\n",
    "# Step 1: Load the dataset\n",
    "data = pd.read_csv('diabetes.csv')\n",
    "\n",
    "# Step 2: Separate features (X) and target variable (y)\n",
    "X = data.drop(columns=['Outcome'])  # Assuming 'Outcome' is the target variable\n",
    "y = data['Outcome']\n",
    "\n",
    "# Step 3: Calculate the mean absolute difference (MAD) for each feature\n",
    "mad_values = X.apply(lambda x: (x - x.mean()).abs().mean())\n",
    "\n",
    "# Step 4: Select the features with the highest MAD values\n",
    "selected_features = mad_values.nlargest(5).index  # Selecting top 5 features\n",
    "\n",
    "# Display selected features\n",
    "print(\"Selected Features based on Mean Absolute Difference (MAD) Method:\")\n",
    "print(selected_features)\n"
   ]
  },
  {
   "cell_type": "markdown",
   "id": "a3b1aa2e",
   "metadata": {},
   "source": [
    "# Question 6"
   ]
  },
  {
   "cell_type": "code",
   "execution_count": 12,
   "id": "b5958313",
   "metadata": {},
   "outputs": [
    {
     "name": "stdout",
     "output_type": "stream",
     "text": [
      "Dispersion Ratio for the target variable (Day Mins): 2.002754820936639\n"
     ]
    }
   ],
   "source": [
    "import pandas as pd\n",
    "import numpy as np\n",
    "\n",
    "# Step 1: Load the dataset\n",
    "data = pd.read_csv('churn.csv')\n",
    "\n",
    "# Step 2: Choose a continuous target variable for dispersion ratio calculation\n",
    "# Let's choose 'Day Mins' as the target variable for this example\n",
    "y = data['Day Mins']\n",
    "\n",
    "# Step 3: Calculate the dispersion ratio for the chosen target variable\n",
    "# Calculate the Interquartile Range (IQR)\n",
    "iqr_y = y.quantile(0.75) - y.quantile(0.25)\n",
    "# Calculate the Median Absolute Deviation (MAD)\n",
    "mad_y = np.median(np.abs(y - y.median()))\n",
    "# Calculate the dispersion ratio\n",
    "dispersion_ratio_y = iqr_y / mad_y\n",
    "\n",
    "# Step 4: Display the dispersion ratio for the chosen target variable\n",
    "print(\"Dispersion Ratio for the target variable (Day Mins):\", dispersion_ratio_y)\n"
   ]
  },
  {
   "cell_type": "code",
   "execution_count": null,
   "id": "b12b460b",
   "metadata": {},
   "outputs": [],
   "source": []
  }
 ],
 "metadata": {
  "kernelspec": {
   "display_name": "Python 3 (ipykernel)",
   "language": "python",
   "name": "python3"
  },
  "language_info": {
   "codemirror_mode": {
    "name": "ipython",
    "version": 3
   },
   "file_extension": ".py",
   "mimetype": "text/x-python",
   "name": "python",
   "nbconvert_exporter": "python",
   "pygments_lexer": "ipython3",
   "version": "3.11.5"
  }
 },
 "nbformat": 4,
 "nbformat_minor": 5
}
