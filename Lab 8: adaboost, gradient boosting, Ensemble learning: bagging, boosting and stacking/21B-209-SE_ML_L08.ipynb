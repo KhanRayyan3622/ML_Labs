{
 "cells": [
  {
   "cell_type": "code",
   "execution_count": null,
   "id": "ce3bd3ad",
   "metadata": {},
   "outputs": [],
   "source": [
    "# Name: Muhammad Rayyan Khan\n",
    "# Roll Number: 21B-209-SE\n",
    "# Section: SE-A"
   ]
  },
  {
   "cell_type": "markdown",
   "id": "e96288e5",
   "metadata": {},
   "source": [
    "# LAB TASKS"
   ]
  },
  {
   "cell_type": "markdown",
   "id": "f0b2d44c",
   "metadata": {},
   "source": [
    "# Task 1"
   ]
  },
  {
   "cell_type": "code",
   "execution_count": 2,
   "id": "4ba3ce8f",
   "metadata": {},
   "outputs": [],
   "source": [
    "import numpy as np\n",
    "import pandas as pd\n",
    "from sklearn.datasets import load_diabetes\n",
    "from sklearn.model_selection import train_test_split\n",
    "from sklearn.ensemble import BaggingRegressor, RandomForestRegressor\n",
    "from sklearn.tree import DecisionTreeRegressor\n",
    "from sklearn.metrics import mean_squared_error"
   ]
  },
  {
   "cell_type": "code",
   "execution_count": 3,
   "id": "4b07c147",
   "metadata": {},
   "outputs": [],
   "source": [
    "diabetes = load_diabetes()\n",
    "X = diabetes.data\n",
    "y = diabetes.target"
   ]
  },
  {
   "cell_type": "code",
   "execution_count": 4,
   "id": "d6c6b66a",
   "metadata": {},
   "outputs": [],
   "source": [
    "X_train, X_test, y_train, y_test = train_test_split(X, y, test_size=0.2, random_state=42)"
   ]
  },
  {
   "cell_type": "code",
   "execution_count": 5,
   "id": "dff1a51d",
   "metadata": {},
   "outputs": [],
   "source": [
    "base_regressor = DecisionTreeRegressor()"
   ]
  },
  {
   "cell_type": "code",
   "execution_count": 6,
   "id": "16d96136",
   "metadata": {},
   "outputs": [
    {
     "name": "stderr",
     "output_type": "stream",
     "text": [
      "C:\\Users\\AAC\\AppData\\Local\\anaconda3\\Lib\\site-packages\\sklearn\\ensemble\\_base.py:156: FutureWarning: `base_estimator` was renamed to `estimator` in version 1.2 and will be removed in 1.4.\n",
      "  warnings.warn(\n"
     ]
    }
   ],
   "source": [
    "bagging_regressor = BaggingRegressor(base_estimator=base_regressor, n_estimators=50, random_state=42)\n",
    "bagging_regressor.fit(X_train, y_train)\n",
    "bagging_pred = bagging_regressor.predict(X_test)"
   ]
  },
  {
   "cell_type": "code",
   "execution_count": 7,
   "id": "26a63971",
   "metadata": {},
   "outputs": [],
   "source": [
    "random_forest_regressor = RandomForestRegressor(n_estimators=50, random_state=42)\n",
    "random_forest_regressor.fit(X_train, y_train)\n",
    "random_forest_pred = random_forest_regressor.predict(X_test)"
   ]
  },
  {
   "cell_type": "code",
   "execution_count": 8,
   "id": "ddfcd4d2",
   "metadata": {},
   "outputs": [],
   "source": [
    "bagging_mse = mean_squared_error(y_test, bagging_pred)\n",
    "random_forest_mse = mean_squared_error(y_test, random_forest_pred)"
   ]
  },
  {
   "cell_type": "code",
   "execution_count": 9,
   "id": "97e45236",
   "metadata": {},
   "outputs": [
    {
     "name": "stdout",
     "output_type": "stream",
     "text": [
      "Bagging Regressor MSE: 3056.494602247191\n",
      "Random Forest Regressor MSE: 3044.1991280898874\n"
     ]
    }
   ],
   "source": [
    "print(\"Bagging Regressor MSE:\", bagging_mse)\n",
    "print(\"Random Forest Regressor MSE:\", random_forest_mse)"
   ]
  },
  {
   "cell_type": "markdown",
   "id": "44ae4039",
   "metadata": {},
   "source": [
    "# Task 2"
   ]
  },
  {
   "cell_type": "code",
   "execution_count": 10,
   "id": "c3f067a0",
   "metadata": {},
   "outputs": [],
   "source": [
    "import numpy as np\n",
    "import pandas as pd\n",
    "from sklearn.datasets import load_diabetes\n",
    "from sklearn.model_selection import train_test_split\n",
    "from sklearn.ensemble import BaggingClassifier, RandomForestClassifier\n",
    "from sklearn.tree import DecisionTreeClassifier\n",
    "from sklearn.metrics import accuracy_score, f1_score, confusion_matrix"
   ]
  },
  {
   "cell_type": "code",
   "execution_count": 11,
   "id": "6505b1bf",
   "metadata": {},
   "outputs": [],
   "source": [
    "diabetes = load_diabetes()\n",
    "X = diabetes.data\n",
    "y = diabetes.target"
   ]
  },
  {
   "cell_type": "code",
   "execution_count": 12,
   "id": "45c8f62b",
   "metadata": {},
   "outputs": [],
   "source": [
    "threshold = 150\n",
    "y_class = (y > threshold).astype(int)"
   ]
  },
  {
   "cell_type": "code",
   "execution_count": 13,
   "id": "a043c16f",
   "metadata": {},
   "outputs": [],
   "source": [
    "X_train, X_test, y_train, y_test = train_test_split(X, y_class, test_size=0.2, random_state=42)"
   ]
  },
  {
   "cell_type": "code",
   "execution_count": 14,
   "id": "562b5574",
   "metadata": {},
   "outputs": [
    {
     "name": "stderr",
     "output_type": "stream",
     "text": [
      "C:\\Users\\AAC\\AppData\\Local\\anaconda3\\Lib\\site-packages\\sklearn\\ensemble\\_base.py:156: FutureWarning: `base_estimator` was renamed to `estimator` in version 1.2 and will be removed in 1.4.\n",
      "  warnings.warn(\n"
     ]
    }
   ],
   "source": [
    "base_classifier = DecisionTreeClassifier()\n",
    "\n",
    "bagging_classifier = BaggingClassifier(base_estimator=base_classifier, n_estimators=50, random_state=42)\n",
    "bagging_classifier.fit(X_train, y_train)\n",
    "bagging_pred = bagging_classifier.predict(X_test)\n",
    "\n",
    "random_forest_classifier = RandomForestClassifier(n_estimators=50, random_state=42)\n",
    "random_forest_classifier.fit(X_train, y_train)\n",
    "random_forest_pred = random_forest_classifier.predict(X_test)"
   ]
  },
  {
   "cell_type": "code",
   "execution_count": 15,
   "id": "5679d1eb",
   "metadata": {},
   "outputs": [],
   "source": [
    "bagging_accuracy = accuracy_score(y_test, bagging_pred)\n",
    "random_forest_accuracy = accuracy_score(y_test, random_forest_pred)\n",
    "\n",
    "bagging_f1 = f1_score(y_test, bagging_pred)\n",
    "random_forest_f1 = f1_score(y_test, random_forest_pred)\n",
    "\n",
    "bagging_cm = confusion_matrix(y_test, bagging_pred)\n",
    "random_forest_cm = confusion_matrix(y_test, random_forest_pred)"
   ]
  },
  {
   "cell_type": "code",
   "execution_count": 16,
   "id": "d3e9a582",
   "metadata": {},
   "outputs": [
    {
     "name": "stdout",
     "output_type": "stream",
     "text": [
      "Bagging Classifier Accuracy: 0.7415730337078652\n",
      "Random Forest Classifier Accuracy: 0.7191011235955056\n",
      "Bagging Classifier F1 Score: 0.7012987012987014\n",
      "Random Forest Classifier F1 Score: 0.6666666666666666\n",
      "Bagging Classifier Confusion Matrix:\n",
      "[[39 10]\n",
      " [13 27]]\n",
      "Random Forest Classifier Confusion Matrix:\n",
      "[[39 10]\n",
      " [15 25]]\n"
     ]
    }
   ],
   "source": [
    "print(\"Bagging Classifier Accuracy:\", bagging_accuracy)\n",
    "print(\"Random Forest Classifier Accuracy:\", random_forest_accuracy)\n",
    "\n",
    "print(\"Bagging Classifier F1 Score:\", bagging_f1)\n",
    "print(\"Random Forest Classifier F1 Score:\", random_forest_f1)\n",
    "\n",
    "print(\"Bagging Classifier Confusion Matrix:\")\n",
    "print(bagging_cm)\n",
    "print(\"Random Forest Classifier Confusion Matrix:\")\n",
    "print(random_forest_cm)"
   ]
  },
  {
   "cell_type": "code",
   "execution_count": null,
   "id": "3ef23d53",
   "metadata": {},
   "outputs": [],
   "source": []
  },
  {
   "cell_type": "markdown",
   "id": "32038fab",
   "metadata": {},
   "source": [
    "# Task 3"
   ]
  },
  {
   "cell_type": "code",
   "execution_count": 17,
   "id": "fc04d898",
   "metadata": {},
   "outputs": [],
   "source": [
    "from sklearn.datasets import load_breast_cancer\n",
    "from sklearn.model_selection import train_test_split\n",
    "from sklearn.ensemble import AdaBoostClassifier, RandomForestClassifier\n",
    "from sklearn.metrics import accuracy_score, f1_score, confusion_matrix"
   ]
  },
  {
   "cell_type": "code",
   "execution_count": 18,
   "id": "d26611d9",
   "metadata": {},
   "outputs": [],
   "source": [
    "breast_cancer = load_breast_cancer()\n",
    "X = breast_cancer.data\n",
    "y = breast_cancer.target"
   ]
  },
  {
   "cell_type": "code",
   "execution_count": 19,
   "id": "322b7cd5",
   "metadata": {},
   "outputs": [],
   "source": [
    "X_train, X_test, y_train, y_test = train_test_split(X, y, test_size=0.2, random_state=42)"
   ]
  },
  {
   "cell_type": "code",
   "execution_count": 20,
   "id": "f43f3407",
   "metadata": {},
   "outputs": [],
   "source": [
    "adaboost_classifier = AdaBoostClassifier(n_estimators=50, random_state=42)\n",
    "adaboost_classifier.fit(X_train, y_train)\n",
    "adaboost_pred = adaboost_classifier.predict(X_test)\n",
    "\n",
    "random_forest_classifier = RandomForestClassifier(n_estimators=50, random_state=42)\n",
    "random_forest_classifier.fit(X_train, y_train)\n",
    "random_forest_pred = random_forest_classifier.predict(X_test)"
   ]
  },
  {
   "cell_type": "code",
   "execution_count": 21,
   "id": "9dbb25af",
   "metadata": {},
   "outputs": [],
   "source": [
    "adaboost_accuracy = accuracy_score(y_test, adaboost_pred)\n",
    "random_forest_accuracy = accuracy_score(y_test, random_forest_pred)\n",
    "\n",
    "adaboost_f1 = f1_score(y_test, adaboost_pred)\n",
    "random_forest_f1 = f1_score(y_test, random_forest_pred)\n",
    "\n",
    "adaboost_cm = confusion_matrix(y_test, adaboost_pred)\n",
    "random_forest_cm = confusion_matrix(y_test, random_forest_pred)"
   ]
  },
  {
   "cell_type": "code",
   "execution_count": 22,
   "id": "9afe66c9",
   "metadata": {},
   "outputs": [
    {
     "name": "stdout",
     "output_type": "stream",
     "text": [
      "AdaBoost Classifier Accuracy: 0.9736842105263158\n",
      "Random Forest Classifier Accuracy: 0.9649122807017544\n",
      "AdaBoost Classifier F1 Score: 0.979020979020979\n",
      "Random Forest Classifier F1 Score: 0.9722222222222222\n",
      "AdaBoost Classifier Confusion Matrix:\n",
      "[[41  2]\n",
      " [ 1 70]]\n",
      "Random Forest Classifier Confusion Matrix:\n",
      "[[40  3]\n",
      " [ 1 70]]\n"
     ]
    }
   ],
   "source": [
    "print(\"AdaBoost Classifier Accuracy:\", adaboost_accuracy)\n",
    "print(\"Random Forest Classifier Accuracy:\", random_forest_accuracy)\n",
    "\n",
    "print(\"AdaBoost Classifier F1 Score:\", adaboost_f1)\n",
    "print(\"Random Forest Classifier F1 Score:\", random_forest_f1)\n",
    "\n",
    "print(\"AdaBoost Classifier Confusion Matrix:\")\n",
    "print(adaboost_cm)\n",
    "print(\"Random Forest Classifier Confusion Matrix:\")\n",
    "print(random_forest_cm)"
   ]
  },
  {
   "cell_type": "markdown",
   "id": "fa9cfb3c",
   "metadata": {},
   "source": [
    "# Task 4"
   ]
  },
  {
   "cell_type": "code",
   "execution_count": 23,
   "id": "c1d58c2d",
   "metadata": {},
   "outputs": [],
   "source": [
    "from sklearn.datasets import load_breast_cancer\n",
    "from sklearn.model_selection import train_test_split\n",
    "from sklearn.ensemble import AdaBoostClassifier, RandomForestClassifier\n",
    "from sklearn.metrics import accuracy_score, f1_score, confusion_matrix"
   ]
  },
  {
   "cell_type": "code",
   "execution_count": 24,
   "id": "1fd4a230",
   "metadata": {},
   "outputs": [],
   "source": [
    "breast_cancer = load_breast_cancer()\n",
    "X = breast_cancer.data\n",
    "y = breast_cancer.target\n",
    "\n",
    "X_train, X_test, y_train, y_test = train_test_split(X, y, test_size=0.2, random_state=42)"
   ]
  },
  {
   "cell_type": "code",
   "execution_count": 25,
   "id": "b868d8e9",
   "metadata": {},
   "outputs": [],
   "source": [
    "adaboost_classifier = AdaBoostClassifier(n_estimators=50, random_state=42)\n",
    "adaboost_classifier.fit(X_train, y_train)\n",
    "adaboost_pred = adaboost_classifier.predict(X_test)\n",
    "\n",
    "random_forest_classifier = RandomForestClassifier(n_estimators=50, random_state=42)\n",
    "random_forest_classifier.fit(X_train, y_train)\n",
    "random_forest_pred = random_forest_classifier.predict(X_test)\n",
    "\n",
    "adaboost_accuracy = accuracy_score(y_test, adaboost_pred)\n",
    "adaboost_f1 = f1_score(y_test, adaboost_pred)\n",
    "adaboost_cm = confusion_matrix(y_test, adaboost_pred)\n",
    "\n",
    "random_forest_accuracy = accuracy_score(y_test, random_forest_pred)\n",
    "random_forest_f1 = f1_score(y_test, random_forest_pred)\n",
    "random_forest_cm = confusion_matrix(y_test, random_forest_pred)"
   ]
  },
  {
   "cell_type": "code",
   "execution_count": 26,
   "id": "747f9fdb",
   "metadata": {},
   "outputs": [
    {
     "name": "stdout",
     "output_type": "stream",
     "text": [
      "AdaBoost Classifier:\n",
      "Accuracy: 0.9736842105263158\n",
      "F1 Score: 0.979020979020979\n",
      "Confusion Matrix:\n",
      "[[41  2]\n",
      " [ 1 70]]\n",
      "\n",
      "Random Forest Classifier:\n",
      "Accuracy: 0.9649122807017544\n",
      "F1 Score: 0.9722222222222222\n",
      "Confusion Matrix:\n",
      "[[40  3]\n",
      " [ 1 70]]\n"
     ]
    }
   ],
   "source": [
    "print(\"AdaBoost Classifier:\")\n",
    "print(\"Accuracy:\", adaboost_accuracy)\n",
    "print(\"F1 Score:\", adaboost_f1)\n",
    "print(\"Confusion Matrix:\")\n",
    "print(adaboost_cm)\n",
    "print()\n",
    "\n",
    "print(\"Random Forest Classifier:\")\n",
    "print(\"Accuracy:\", random_forest_accuracy)\n",
    "print(\"F1 Score:\", random_forest_f1)\n",
    "print(\"Confusion Matrix:\")\n",
    "print(random_forest_cm)"
   ]
  },
  {
   "cell_type": "markdown",
   "id": "6e06fa9b",
   "metadata": {},
   "source": [
    "# Task 5"
   ]
  },
  {
   "cell_type": "code",
   "execution_count": 28,
   "id": "8df83d86",
   "metadata": {},
   "outputs": [],
   "source": [
    "from sklearn.datasets import load_breast_cancer\n",
    "from sklearn.model_selection import train_test_split\n",
    "from sklearn.ensemble import AdaBoostClassifier, RandomForestClassifier\n",
    "from sklearn.linear_model import LogisticRegression\n",
    "from sklearn.metrics import accuracy_score, f1_score, confusion_matrix\n",
    "from sklearn.ensemble import StackingClassifier"
   ]
  },
  {
   "cell_type": "code",
   "execution_count": 29,
   "id": "3b4841c0",
   "metadata": {},
   "outputs": [],
   "source": [
    "base_estimators = [\n",
    "    ('adaboost', AdaBoostClassifier(n_estimators=50, random_state=42)),\n",
    "    ('random_forest', RandomForestClassifier(n_estimators=50, random_state=42))\n",
    "]"
   ]
  },
  {
   "cell_type": "code",
   "execution_count": 30,
   "id": "091881b0",
   "metadata": {},
   "outputs": [],
   "source": [
    "stacking_classifier = StackingClassifier(estimators=base_estimators, final_estimator=LogisticRegression())\n",
    "stacking_classifier.fit(X_train, y_train)\n",
    "stacking_pred = stacking_classifier.predict(X_test)\n",
    "\n",
    "stacking_accuracy = accuracy_score(y_test, stacking_pred)\n",
    "stacking_f1 = f1_score(y_test, stacking_pred)\n",
    "stacking_cm = confusion_matrix(y_test, stacking_pred)"
   ]
  },
  {
   "cell_type": "code",
   "execution_count": 31,
   "id": "44c32617",
   "metadata": {},
   "outputs": [
    {
     "name": "stdout",
     "output_type": "stream",
     "text": [
      "Stacking Classifier:\n",
      "Accuracy: 0.9649122807017544\n",
      "F1 Score: 0.9722222222222222\n",
      "Confusion Matrix:\n",
      "[[40  3]\n",
      " [ 1 70]]\n"
     ]
    }
   ],
   "source": [
    "print(\"Stacking Classifier:\")\n",
    "print(\"Accuracy:\", stacking_accuracy)\n",
    "print(\"F1 Score:\", stacking_f1)\n",
    "print(\"Confusion Matrix:\")\n",
    "print(stacking_cm)"
   ]
  },
  {
   "cell_type": "markdown",
   "id": "ae2d5073",
   "metadata": {},
   "source": [
    "# Task 6"
   ]
  },
  {
   "cell_type": "code",
   "execution_count": 32,
   "id": "cf6b2d4b",
   "metadata": {},
   "outputs": [],
   "source": [
    "from sklearn.datasets import load_breast_cancer\n",
    "from sklearn.model_selection import train_test_split\n",
    "from sklearn.ensemble import AdaBoostClassifier, RandomForestClassifier\n",
    "from sklearn.linear_model import LogisticRegression\n",
    "from sklearn.metrics import accuracy_score, f1_score, confusion_matrix\n",
    "from sklearn.ensemble import StackingClassifier"
   ]
  },
  {
   "cell_type": "code",
   "execution_count": 35,
   "id": "94345b79",
   "metadata": {},
   "outputs": [
    {
     "name": "stdout",
     "output_type": "stream",
     "text": [
      "Stacking Classifier:\n",
      "Accuracy: 0.9649122807017544\n",
      "F1 Score: 0.9722222222222222\n",
      "Confusion Matrix:\n",
      "[[40  3]\n",
      " [ 1 70]]\n"
     ]
    }
   ],
   "source": [
    "print(\"Stacking Classifier:\")\n",
    "print(\"Accuracy:\", stacking_accuracy)\n",
    "print(\"F1 Score:\", stacking_f1)\n",
    "print(\"Confusion Matrix:\")\n",
    "print(stacking_cm)"
   ]
  },
  {
   "cell_type": "code",
   "execution_count": 36,
   "id": "0259097d",
   "metadata": {},
   "outputs": [
    {
     "name": "stdout",
     "output_type": "stream",
     "text": [
      "\n",
      "AdaBoost Classifier:\n",
      "Accuracy: 0.9736842105263158\n",
      "F1 Score: 0.979020979020979\n",
      "Confusion Matrix:\n",
      "[[41  2]\n",
      " [ 1 70]]\n"
     ]
    }
   ],
   "source": [
    "adaboost_classifier = AdaBoostClassifier(n_estimators=50, random_state=42)\n",
    "adaboost_classifier.fit(X_train, y_train)\n",
    "adaboost_pred = adaboost_classifier.predict(X_test)\n",
    "\n",
    "adaboost_accuracy = accuracy_score(y_test, adaboost_pred)\n",
    "adaboost_f1 = f1_score(y_test, adaboost_pred)\n",
    "adaboost_cm = confusion_matrix(y_test, adaboost_pred)\n",
    "\n",
    "print(\"\\nAdaBoost Classifier:\")\n",
    "print(\"Accuracy:\", adaboost_accuracy)\n",
    "print(\"F1 Score:\", adaboost_f1)\n",
    "print(\"Confusion Matrix:\")\n",
    "print(adaboost_cm)"
   ]
  },
  {
   "cell_type": "code",
   "execution_count": 37,
   "id": "ec1ada49",
   "metadata": {},
   "outputs": [
    {
     "name": "stdout",
     "output_type": "stream",
     "text": [
      "\n",
      "Random Forest Classifier:\n",
      "Accuracy: 0.9649122807017544\n",
      "F1 Score: 0.9722222222222222\n",
      "Confusion Matrix:\n",
      "[[40  3]\n",
      " [ 1 70]]\n"
     ]
    }
   ],
   "source": [
    "random_forest_classifier = RandomForestClassifier(n_estimators=50, random_state=42)\n",
    "random_forest_classifier.fit(X_train, y_train)\n",
    "random_forest_pred = random_forest_classifier.predict(X_test)\n",
    "\n",
    "random_forest_accuracy = accuracy_score(y_test, random_forest_pred)\n",
    "random_forest_f1 = f1_score(y_test, random_forest_pred)\n",
    "random_forest_cm = confusion_matrix(y_test, random_forest_pred)\n",
    "\n",
    "print(\"\\nRandom Forest Classifier:\")\n",
    "print(\"Accuracy:\", random_forest_accuracy)\n",
    "print(\"F1 Score:\", random_forest_f1)\n",
    "print(\"Confusion Matrix:\")\n",
    "print(random_forest_cm)"
   ]
  },
  {
   "cell_type": "markdown",
   "id": "981492c1",
   "metadata": {},
   "source": [
    "# Homework - Project Assignment - 2"
   ]
  },
  {
   "cell_type": "code",
   "execution_count": 38,
   "id": "d981255b",
   "metadata": {},
   "outputs": [
    {
     "name": "stdout",
     "output_type": "stream",
     "text": [
      "> lr 0.773 (0.040)\n",
      "> knn 0.717 (0.040)\n",
      "> tree 0.694 (0.058)\n",
      "> nb 0.759 (0.055)\n",
      "> svm 0.757 (0.040)\n"
     ]
    },
    {
     "data": {
      "image/png": "[encoded data removed]",
      "text/plain": [
       "<Figure size 640x480 with 1 Axes>"
      ]
     },
     "metadata": {},
     "output_type": "display_data"
    },
    {
     "name": "stdout",
     "output_type": "stream",
     "text": [
      "> 0.765 (removed: knn)\n",
      "> 0.767 (removed: tree)\n",
      "> 0.770 (removed: nb)\n",
      "> 0.773 (removed: svm)\n",
      "no further improvement\n",
      "Models: lr\n",
      "Final Mean Accuracy: 0.773\n"
     ]
    }
   ],
   "source": [
    "import pandas as pd\n",
    "from numpy import mean, std\n",
    "from sklearn.metrics import accuracy_score, make_scorer\n",
    "from sklearn.datasets import make_classification\n",
    "from sklearn.model_selection import cross_val_score, RepeatedStratifiedKFold\n",
    "from sklearn.linear_model import LogisticRegression\n",
    "from sklearn.neighbors import KNeighborsClassifier\n",
    "from sklearn.tree import DecisionTreeClassifier\n",
    "from sklearn.svm import SVC\n",
    "from sklearn.naive_bayes import GaussianNB\n",
    "from matplotlib import pyplot\n",
    "from sklearn.ensemble import VotingClassifier\n",
    "\n",
    "\n",
    "def get_dataset():\n",
    "    df = pd.read_csv('diabetes.csv')\n",
    "    X = df.iloc[:, :-1].values\n",
    "    y = df.iloc[:, -1].values\n",
    "    return X, y\n",
    "\n",
    "def get_models():\n",
    "    models = []\n",
    "    models.append(('lr', LogisticRegression()))\n",
    "    models.append(('knn', KNeighborsClassifier()))\n",
    "    models.append(('tree', DecisionTreeClassifier()))\n",
    "    models.append(('nb', GaussianNB()))\n",
    "    models.append(('svm', SVC(probability=True)))\n",
    "    return models\n",
    "\n",
    "scoring_function = make_scorer(accuracy_score)\n",
    "\n",
    "def evaluate_model(model, X, y):\n",
    "    cv = RepeatedStratifiedKFold(n_splits=10, n_repeats=3, random_state=1)\n",
    "    scores = cross_val_score(model, X, y, scoring=scoring_function, cv=cv, n_jobs=-1)\n",
    "    return scores\n",
    "\n",
    "X, y = get_dataset()\n",
    "models = get_models()\n",
    "results, names = [], []\n",
    "\n",
    "for name, model in models:\n",
    "    scores = evaluate_model(model, X, y)\n",
    "    results.append(scores)\n",
    "    names.append(name)\n",
    "    print('> %s %.3f (%.3f)' % (name, mean(scores), std(scores)))\n",
    "\n",
    "pyplot.boxplot(results, labels=names, showmeans=True)\n",
    "pyplot.show()\n",
    "\n",
    "def evaluate_ensemble(models, X, y):\n",
    "    if len(models) == 0:\n",
    "        return 0.0\n",
    "    ensemble = VotingClassifier(estimators=models, voting='soft')\n",
    "    cv = RepeatedStratifiedKFold(n_splits=10, n_repeats=3, random_state=1)\n",
    "    scores = cross_val_score(ensemble, X, y, scoring=scoring_function, cv=cv, n_jobs=-1)\n",
    "    return mean(scores)\n",
    "\n",
    "def prune_round(models_in, X, y):\n",
    "    baseline = evaluate_ensemble(models_in, X, y)\n",
    "    best_score, removed = baseline, None\n",
    "    for m in models_in:\n",
    "        dup = models_in.copy()\n",
    "        dup.remove(m)\n",
    "        result = evaluate_ensemble(dup, X, y)\n",
    "        if result > best_score:\n",
    "            best_score, removed = result, m\n",
    "    return best_score, removed\n",
    "\n",
    "def prune_ensemble(models, X, y):\n",
    "    best_score = 0.0\n",
    "    while True:\n",
    "        score, removed = prune_round(models, X, y)\n",
    "        if removed is None:\n",
    "            print('no further improvement')\n",
    "            break\n",
    "        best_score = score\n",
    "        models.remove(removed)\n",
    "        print('> %.3f (removed: %s)' % (score, removed[0]))\n",
    "    return best_score, models\n",
    "\n",
    "models = get_models()\n",
    "score, model_list = prune_ensemble(models, X, y)\n",
    "names = ','.join([n for n, _ in model_list])\n",
    "print('Models: %s' % names)\n",
    "print('Final Mean Accuracy: %.3f' % score)"
   ]
  },
  {
   "cell_type": "markdown",
   "id": "5163a3aa",
   "metadata": {},
   "source": [
    "# EVIDENCE"
   ]
  },
  {
   "cell_type": "code",
   "execution_count": null,
   "id": "1a029ca7",
   "metadata": {},
   "outputs": [],
   "source": [
    "# From these results, it seems that the Support Vector Machine, Logistic Regression, and Gaussian Naive Bayes classifiers \n",
    "# perform relatively well across both datasets. However, considering the ensemble pruning, the Support Vector Machine was \n",
    "# removed, leaving Logistic Regression and Gaussian Naive Bayes.\n",
    "# Given these observations, the selected model would likely be either Logistic Regression or Gaussian Naive Bayes. \n",
    "# However, since Logistic Regression slightly outperforms Gaussian Naive Bayes in both datasets and was retained in the pruned\n",
    "# ensemble, it could be considered the best model overall."
   ]
  }
 ],
 "metadata": {
  "kernelspec": {
   "display_name": "Python 3 (ipykernel)",
   "language": "python",
   "name": "python3"
  },
  "language_info": {
   "codemirror_mode": {
    "name": "ipython",
    "version": 3
   },
   "file_extension": ".py",
   "mimetype": "text/x-python",
   "name": "python",
   "nbconvert_exporter": "python",
   "pygments_lexer": "ipython3",
   "version": "3.11.5"
  }
 },
 "nbformat": 4,
 "nbformat_minor": 5
}
