{
 "cells": [
  {
   "cell_type": "code",
   "execution_count": 2,
   "id": "65b81057",
   "metadata": {},
   "outputs": [],
   "source": [
    "# NAME : MUHAMMAD RAYYAN KHAN\n",
    "# ROLL NUMBER: 21B-209-SE\n",
    "# SECTION: SE-A"
   ]
  },
  {
   "cell_type": "markdown",
   "id": "4f958d77",
   "metadata": {},
   "source": [
    "# LAB TASKS"
   ]
  },
  {
   "cell_type": "markdown",
   "id": "337f9a69",
   "metadata": {},
   "source": [
    "# TASK 1"
   ]
  },
  {
   "cell_type": "code",
   "execution_count": 4,
   "id": "129926e2",
   "metadata": {},
   "outputs": [],
   "source": [
    "import pandas as pd\n",
    "from sklearn.model_selection import train_test_split\n",
    "from sklearn.preprocessing import StandardScaler\n",
    "from sklearn.neighbors import KNeighborsClassifier\n",
    "from sklearn.metrics import accuracy_score"
   ]
  },
  {
   "cell_type": "code",
   "execution_count": 6,
   "id": "2656bd9c",
   "metadata": {},
   "outputs": [],
   "source": [
    "heart_data = pd.read_csv(\"heart.csv\")"
   ]
  },
  {
   "cell_type": "code",
   "execution_count": 7,
   "id": "c3e28679",
   "metadata": {},
   "outputs": [],
   "source": [
    "X = heart_data.drop('target', axis=1)\n",
    "y = heart_data['target']"
   ]
  },
  {
   "cell_type": "code",
   "execution_count": 8,
   "id": "472152ac",
   "metadata": {},
   "outputs": [],
   "source": [
    "X_train, X_test, y_train, y_test = train_test_split(X, y, test_size=0.2, random_state=42)"
   ]
  },
  {
   "cell_type": "code",
   "execution_count": 9,
   "id": "b9243050",
   "metadata": {},
   "outputs": [],
   "source": [
    "scaler = StandardScaler()\n",
    "X_train_scaled = scaler.fit_transform(X_train)\n",
    "X_test_scaled = scaler.transform(X_test)"
   ]
  },
  {
   "cell_type": "code",
   "execution_count": 10,
   "id": "c49055c8",
   "metadata": {},
   "outputs": [
    {
     "data": {
      "text/html": [
       "<style>#sk-container-id-1 {color: black;}#sk-container-id-1 pre{padding: 0;}#sk-container-id-1 div.sk-toggleable {background-color: white;}#sk-container-id-1 label.sk-toggleable__label {cursor: pointer;display: block;width: 100%;margin-bottom: 0;padding: 0.3em;box-sizing: border-box;text-align: center;}#sk-container-id-1 label.sk-toggleable__label-arrow:before {content: \"▸\";float: left;margin-right: 0.25em;color: #696969;}#sk-container-id-1 label.sk-toggleable__label-arrow:hover:before {color: black;}#sk-container-id-1 div.sk-estimator:hover label.sk-toggleable__label-arrow:before {color: black;}#sk-container-id-1 div.sk-toggleable__content {max-height: 0;max-width: 0;overflow: hidden;text-align: left;background-color: #f0f8ff;}#sk-container-id-1 div.sk-toggleable__content pre {margin: 0.2em;color: black;border-radius: 0.25em;background-color: #f0f8ff;}#sk-container-id-1 input.sk-toggleable__control:checked~div.sk-toggleable__content {max-height: 200px;max-width: 100%;overflow: auto;}#sk-container-id-1 input.sk-toggleable__control:checked~label.sk-toggleable__label-arrow:before {content: \"▾\";}#sk-container-id-1 div.sk-estimator input.sk-toggleable__control:checked~label.sk-toggleable__label {background-color: #d4ebff;}#sk-container-id-1 div.sk-label input.sk-toggleable__control:checked~label.sk-toggleable__label {background-color: #d4ebff;}#sk-container-id-1 input.sk-hidden--visually {border: 0;clip: rect(1px 1px 1px 1px);clip: rect(1px, 1px, 1px, 1px);height: 1px;margin: -1px;overflow: hidden;padding: 0;position: absolute;width: 1px;}#sk-container-id-1 div.sk-estimator {font-family: monospace;background-color: #f0f8ff;border: 1px dotted black;border-radius: 0.25em;box-sizing: border-box;margin-bottom: 0.5em;}#sk-container-id-1 div.sk-estimator:hover {background-color: #d4ebff;}#sk-container-id-1 div.sk-parallel-item::after {content: \"\";width: 100%;border-bottom: 1px solid gray;flex-grow: 1;}#sk-container-id-1 div.sk-label:hover label.sk-toggleable__label {background-color: #d4ebff;}#sk-container-id-1 div.sk-serial::before {content: \"\";position: absolute;border-left: 1px solid gray;box-sizing: border-box;top: 0;bottom: 0;left: 50%;z-index: 0;}#sk-container-id-1 div.sk-serial {display: flex;flex-direction: column;align-items: center;background-color: white;padding-right: 0.2em;padding-left: 0.2em;position: relative;}#sk-container-id-1 div.sk-item {position: relative;z-index: 1;}#sk-container-id-1 div.sk-parallel {display: flex;align-items: stretch;justify-content: center;background-color: white;position: relative;}#sk-container-id-1 div.sk-item::before, #sk-container-id-1 div.sk-parallel-item::before {content: \"\";position: absolute;border-left: 1px solid gray;box-sizing: border-box;top: 0;bottom: 0;left: 50%;z-index: -1;}#sk-container-id-1 div.sk-parallel-item {display: flex;flex-direction: column;z-index: 1;position: relative;background-color: white;}#sk-container-id-1 div.sk-parallel-item:first-child::after {align-self: flex-end;width: 50%;}#sk-container-id-1 div.sk-parallel-item:last-child::after {align-self: flex-start;width: 50%;}#sk-container-id-1 div.sk-parallel-item:only-child::after {width: 0;}#sk-container-id-1 div.sk-dashed-wrapped {border: 1px dashed gray;margin: 0 0.4em 0.5em 0.4em;box-sizing: border-box;padding-bottom: 0.4em;background-color: white;}#sk-container-id-1 div.sk-label label {font-family: monospace;font-weight: bold;display: inline-block;line-height: 1.2em;}#sk-container-id-1 div.sk-label-container {text-align: center;}#sk-container-id-1 div.sk-container {/* jupyter's `normalize.less` sets `[hidden] { display: none; }` but bootstrap.min.css set `[hidden] { display: none !important; }` so we also need the `!important` here to be able to override the default hidden behavior on the sphinx rendered scikit-learn.org. See: https://github.com/scikit-learn/scikit-learn/issues/21755 */display: inline-block !important;position: relative;}#sk-container-id-1 div.sk-text-repr-fallback {display: none;}</style><div id=\"sk-container-id-1\" class=\"sk-top-container\"><div class=\"sk-text-repr-fallback\"><pre>KNeighborsClassifier()</pre><b>In a Jupyter environment, please rerun this cell to show the HTML representation or trust the notebook. <br />On GitHub, the HTML representation is unable to render, please try loading this page with nbviewer.org.</b></div><div class=\"sk-container\" hidden><div class=\"sk-item\"><div class=\"sk-estimator sk-toggleable\"><input class=\"sk-toggleable__control sk-hidden--visually\" id=\"sk-estimator-id-1\" type=\"checkbox\" checked><label for=\"sk-estimator-id-1\" class=\"sk-toggleable__label sk-toggleable__label-arrow\">KNeighborsClassifier</label><div class=\"sk-toggleable__content\"><pre>KNeighborsClassifier()</pre></div></div></div></div></div>"
      ],
      "text/plain": [
       "KNeighborsClassifier()"
      ]
     },
     "execution_count": 10,
     "metadata": {},
     "output_type": "execute_result"
    }
   ],
   "source": [
    "knn = KNeighborsClassifier(n_neighbors=5)\n",
    "knn.fit(X_train_scaled, y_train)"
   ]
  },
  {
   "cell_type": "code",
   "execution_count": 11,
   "id": "be9087f0",
   "metadata": {},
   "outputs": [],
   "source": [
    "y_pred = knn.predict(X_test_scaled)"
   ]
  },
  {
   "cell_type": "code",
   "execution_count": 12,
   "id": "1fad3e16",
   "metadata": {},
   "outputs": [
    {
     "name": "stdout",
     "output_type": "stream",
     "text": [
      "Accuracy: 0.9016393442622951\n"
     ]
    }
   ],
   "source": [
    "accuracy = accuracy_score(y_test, y_pred)\n",
    "print(\"Accuracy:\", accuracy)"
   ]
  },
  {
   "cell_type": "markdown",
   "id": "ce618d88",
   "metadata": {},
   "source": [
    "# TASK 2"
   ]
  },
  {
   "cell_type": "code",
   "execution_count": 19,
   "id": "323c5192",
   "metadata": {},
   "outputs": [],
   "source": [
    "import pandas as pd\n",
    "from sklearn.feature_extraction.text import CountVectorizer\n",
    "from sklearn.metrics.pairwise import cosine_similarity"
   ]
  },
  {
   "cell_type": "code",
   "execution_count": 20,
   "id": "088e34f2",
   "metadata": {},
   "outputs": [],
   "source": [
    "movies_data = pd.read_csv(\"IMDBdata_MainData.csv\")\n",
    "movies_data.fillna('', inplace=True)"
   ]
  },
  {
   "cell_type": "code",
   "execution_count": 21,
   "id": "acaae22c",
   "metadata": {},
   "outputs": [],
   "source": [
    "features = movies_data[['Genre', 'Plot', 'Language']]\n",
    "features = features.applymap(str)\n",
    "features['Combined'] = features.apply(lambda row: ' '.join(row), axis=1)\n",
    "vectorizer = CountVectorizer()\n",
    "feature_matrix = vectorizer.fit_transform(features['Combined'])\n",
    "cosine_sim = cosine_similarity(feature_matrix, feature_matrix)"
   ]
  },
  {
   "cell_type": "code",
   "execution_count": 22,
   "id": "1845f1e4",
   "metadata": {},
   "outputs": [],
   "source": [
    "def recommend_movies(movie_title, cosine_sim=cosine_sim):\n",
    "    idx = movies_data[movies_data['Title'] == movie_title].index[0]\n",
    "    sim_scores = list(enumerate(cosine_sim[idx]))\n",
    "    sim_scores = sorted(sim_scores, key=lambda x: x[1], reverse=True)\n",
    "    sim_scores = sim_scores[1:11]\n",
    "\n",
    "    movie_indices = [i[0] for i in sim_scores]\n",
    "    return movies_data['Title'].iloc[movie_indices]"
   ]
  },
  {
   "cell_type": "code",
   "execution_count": 23,
   "id": "231a706b",
   "metadata": {},
   "outputs": [
    {
     "name": "stdout",
     "output_type": "stream",
     "text": [
      "Recommended movies for 'The Dark Knight':\n",
      "3198                                  Broken Horses\n",
      "151                           The Dark Knight Rises\n",
      "1389               Sinbad: Legend of the Seven Seas\n",
      "755                                       Alexander\n",
      "907                               Kingdom of Heaven\n",
      "329                               The King's Speech\n",
      "1785                                            Ray\n",
      "2005                                         Closer\n",
      "1209                               We Were Soldiers\n",
      "3980    Dolphins and Whales 3D: Tribes of the Ocean\n",
      "Name: Title, dtype: object\n"
     ]
    }
   ],
   "source": [
    "movie_title = \"The Dark Knight\"\n",
    "recommended_movies = recommend_movies(movie_title)\n",
    "print(\"Recommended movies for '{}':\".format(movie_title))\n",
    "print(recommended_movies)"
   ]
  },
  {
   "cell_type": "code",
   "execution_count": null,
   "id": "bdd0912a",
   "metadata": {},
   "outputs": [],
   "source": []
  },
  {
   "cell_type": "markdown",
   "id": "085eaf82",
   "metadata": {},
   "source": [
    "# TASK 3"
   ]
  },
  {
   "cell_type": "code",
   "execution_count": 24,
   "id": "f53b5218",
   "metadata": {},
   "outputs": [],
   "source": [
    "import pandas as pd\n",
    "import numpy as np\n",
    "from scipy.stats import chi2"
   ]
  },
  {
   "cell_type": "code",
   "execution_count": 25,
   "id": "fadcb26c",
   "metadata": {},
   "outputs": [],
   "source": [
    "diabetes_data = pd.read_csv(\"diabetes.csv\")"
   ]
  },
  {
   "cell_type": "code",
   "execution_count": 26,
   "id": "e8b6ab85",
   "metadata": {},
   "outputs": [],
   "source": [
    "X = diabetes_data.drop(diabetes_data.columns[-1], axis=1)\n",
    "mean = np.mean(X, axis=0)\n",
    "cov_matrix = np.cov(X, rowvar=False)"
   ]
  },
  {
   "cell_type": "code",
   "execution_count": 27,
   "id": "bc06f5f7",
   "metadata": {},
   "outputs": [],
   "source": [
    "inv_cov_matrix = np.linalg.inv(cov_matrix)"
   ]
  },
  {
   "cell_type": "code",
   "execution_count": 28,
   "id": "f932a931",
   "metadata": {},
   "outputs": [],
   "source": [
    "mahalanobis_distance = []\n",
    "for i in range(len(X)):\n",
    "    point = X.iloc[i]\n",
    "    mahalanobis_dist = np.sqrt((point - mean).dot(inv_cov_matrix).dot((point - mean).T))\n",
    "    mahalanobis_distance.append(mahalanobis_dist)"
   ]
  },
  {
   "cell_type": "code",
   "execution_count": 29,
   "id": "19c41df9",
   "metadata": {},
   "outputs": [
    {
     "name": "stdout",
     "output_type": "stream",
     "text": [
      "Outlier rows detected based on Mahalanobis distance:\n",
      "Empty DataFrame\n",
      "Columns: [Pregnancies, Glucose, BloodPressure, SkinThickness, Insulin, BMI, DiabetesPedigreeFunction, Age, Outcome]\n",
      "Index: []\n"
     ]
    }
   ],
   "source": [
    "# threshold for outlier detection\n",
    "alpha = 0.05  # significance level\n",
    "df = X.shape[1]  # degrees of freedom\n",
    "threshold = chi2.ppf(1 - alpha, df)\n",
    "\n",
    "outlier_rows = diabetes_data[mahalanobis_distance > threshold]\n",
    "\n",
    "print(\"Outlier rows detected based on Mahalanobis distance:\")\n",
    "print(outlier_rows)"
   ]
  },
  {
   "cell_type": "markdown",
   "id": "d6dce87d",
   "metadata": {},
   "source": [
    "# TASK 4"
   ]
  },
  {
   "cell_type": "code",
   "execution_count": 1,
   "id": "ca9a19b2",
   "metadata": {},
   "outputs": [
    {
     "name": "stdout",
     "output_type": "stream",
     "text": [
      "   Speed  Agility\n",
      "0      4        3\n",
      "1      5        1\n",
      "2      7        2\n",
      "3      9        9\n",
      "4     13        7\n"
     ]
    }
   ],
   "source": [
    "import pandas as pd\n",
    "\n",
    "data = {\n",
    "    'Speed': [4, 5, 7, 9, 13],\n",
    "    'Agility': [3, 1, 2, 9, 7]\n",
    "}\n",
    "\n",
    "df = pd.DataFrame(data)\n",
    "\n",
    "df.to_csv('speed-agility.csv', index=False)\n",
    "\n",
    "print(df)"
   ]
  },
  {
   "cell_type": "code",
   "execution_count": 2,
   "id": "2a08171f",
   "metadata": {},
   "outputs": [],
   "source": [
    "import pandas as pd\n",
    "from scipy.spatial import KDTree\n",
    "import matplotlib.pyplot as plt\n",
    "\n",
    "df = pd.read_csv('speed-agility.csv')"
   ]
  },
  {
   "cell_type": "code",
   "execution_count": 3,
   "id": "f53d94af",
   "metadata": {},
   "outputs": [],
   "source": [
    "points = df[['Speed', 'Agility']].values\n",
    "kd_tree = KDTree(points)"
   ]
  },
  {
   "cell_type": "code",
   "execution_count": 4,
   "id": "a83198e7",
   "metadata": {},
   "outputs": [],
   "source": [
    "def plot_kd_tree(points, kd_tree, ax, depth=0, bounds=None):\n",
    "    if bounds is None:\n",
    "        bounds = [[min(points[:, 0]), max(points[:, 0])], [min(points[:, 1]), max(points[:, 1])]]\n",
    "\n",
    "    if len(points) == 0:\n",
    "        return\n",
    "\n",
    "    axis = depth % 2\n",
    "    median_idx = len(points) // 2\n",
    "    sorted_points = points[points[:, axis].argsort()]\n",
    "    median_point = sorted_points[median_idx]\n",
    "\n",
    "    if axis == 0:\n",
    "        ax.plot([median_point[0], median_point[0]], bounds[1], 'k-')\n",
    "        new_bounds = [bounds[0], [bounds[1][0], median_point[1]]]\n",
    "    else:\n",
    "        ax.plot(bounds[0], [median_point[1], median_point[1]], 'k-')\n",
    "        new_bounds = [[bounds[0][0], median_point[0]], bounds[1]]\n",
    "\n",
    "    # Recursively plot the left and right subtrees\n",
    "    plot_kd_tree(sorted_points[:median_idx], kd_tree, ax, depth + 1, new_bounds)\n",
    "    plot_kd_tree(sorted_points[median_idx + 1:], kd_tree, ax, depth + 1, new_bounds)\n"
   ]
  },
  {
   "cell_type": "code",
   "execution_count": 5,
   "id": "5f88c5a7",
   "metadata": {},
   "outputs": [
    {
     "data": {
      "image/png": "[encoded data removed]",
      "text/plain": [
       "<Figure size 640x480 with 1 Axes>"
      ]
     },
     "metadata": {},
     "output_type": "display_data"
    }
   ],
   "source": [
    "fig, ax = plt.subplots()\n",
    "ax.scatter(points[:, 0], points[:, 1])\n",
    "\n",
    "# Plot the KD tree\n",
    "plot_kd_tree(points, kd_tree, ax)"
   ]
  },
  {
   "cell_type": "code",
   "execution_count": 6,
   "id": "1924bcb7",
   "metadata": {},
   "outputs": [],
   "source": [
    "ax.set_xlabel('Speed')\n",
    "ax.set_ylabel('Agility')\n",
    "plt.show()"
   ]
  },
  {
   "cell_type": "markdown",
   "id": "e7f5eecb",
   "metadata": {},
   "source": [
    "# TASK 5"
   ]
  },
  {
   "cell_type": "code",
   "execution_count": 21,
   "id": "fada230c",
   "metadata": {},
   "outputs": [],
   "source": [
    "import pandas as pd\n",
    "from scipy.spatial import KDTree\n",
    "import matplotlib.pyplot as plt"
   ]
  },
  {
   "cell_type": "code",
   "execution_count": 22,
   "id": "7ce4d7fc",
   "metadata": {},
   "outputs": [],
   "source": [
    "data = {\n",
    "    'Speed': [4, 5, 7, 9, 13],\n",
    "    'Agility': [3, 1, 2, 9, 7]\n",
    "}\n",
    "df = pd.DataFrame(data)"
   ]
  },
  {
   "cell_type": "code",
   "execution_count": 23,
   "id": "424a4cc0",
   "metadata": {},
   "outputs": [],
   "source": [
    "X = df['Agility']\n",
    "Y = df['Speed']"
   ]
  },
  {
   "cell_type": "code",
   "execution_count": 24,
   "id": "f0f7af08",
   "metadata": {},
   "outputs": [],
   "source": [
    "xy = list(zip(X, Y))"
   ]
  },
  {
   "cell_type": "code",
   "execution_count": 31,
   "id": "671d88a8",
   "metadata": {},
   "outputs": [
    {
     "ename": "TypeError",
     "evalue": "KDTree.__init__() got an unexpected keyword argument 'leaf_size'",
     "output_type": "error",
     "traceback": [
      "\u001b[1;31m---------------------------------------------------------------------------\u001b[0m",
      "\u001b[1;31mTypeError\u001b[0m                                 Traceback (most recent call last)",
      "Cell \u001b[1;32mIn[31], line 1\u001b[0m\n\u001b[1;32m----> 1\u001b[0m tree \u001b[38;5;241m=\u001b[39m KDTree(xy, leaf_size\u001b[38;5;241m=\u001b[39m\u001b[38;5;241m2\u001b[39m)\n",
      "\u001b[1;31mTypeError\u001b[0m: KDTree.__init__() got an unexpected keyword argument 'leaf_size'"
     ]
    }
   ],
   "source": [
    "tree = KDTree(xy, leaf_size=2)"
   ]
  },
  {
   "cell_type": "code",
   "execution_count": 26,
   "id": "39d6b5c6",
   "metadata": {},
   "outputs": [],
   "source": [
    "dist, ind = tree.query([[6.3, 3.5]], k=2)"
   ]
  },
  {
   "cell_type": "code",
   "execution_count": 27,
   "id": "ae86b871",
   "metadata": {},
   "outputs": [
    {
     "name": "stdout",
     "output_type": "stream",
     "text": [
      "   Speed  Agility\n",
      "0      4        3\n",
      "1      5        1\n",
      "[[3.33766385 5.50817574]]\n"
     ]
    }
   ],
   "source": [
    "print(df.iloc[ind[0]])\n",
    "print(dist)"
   ]
  },
  {
   "cell_type": "code",
   "execution_count": 28,
   "id": "b1d1f7b3",
   "metadata": {},
   "outputs": [
    {
     "data": {
      "text/plain": [
       "<matplotlib.collections.PathCollection at 0x2e3c9944d90>"
      ]
     },
     "execution_count": 28,
     "metadata": {},
     "output_type": "execute_result"
    },
    {
     "data": {
      "image/png": "[encoded data removed]",
      "text/plain": [
       "<Figure size 640x480 with 1 Axes>"
      ]
     },
     "metadata": {},
     "output_type": "display_data"
    }
   ],
   "source": [
    "plt.scatter(X, Y, color='red', marker='o', label='Data points')\n",
    "plt.scatter(6.3, 3.5, color='blue', marker='v', label='Query point')\n",
    "nearest_points = df.iloc[ind[0]]\n",
    "plt.scatter(nearest_points['Agility'], nearest_points['Speed'], color='green', marker='x', label='Nearest neighbors')"
   ]
  },
  {
   "cell_type": "code",
   "execution_count": 29,
   "id": "900a1761",
   "metadata": {},
   "outputs": [
    {
     "name": "stderr",
     "output_type": "stream",
     "text": [
      "No artists with labels found to put in legend.  Note that artists whose label start with an underscore are ignored when legend() is called with no argument.\n"
     ]
    },
    {
     "data": {
      "text/plain": [
       "Text(0.5, 1.0, 'KD-Tree Nearest Neighbors')"
      ]
     },
     "execution_count": 29,
     "metadata": {},
     "output_type": "execute_result"
    },
    {
     "data": {
      "image/png": "[encoded data removed]",
      "text/plain": [
       "<Figure size 640x480 with 1 Axes>"
      ]
     },
     "metadata": {},
     "output_type": "display_data"
    }
   ],
   "source": [
    "plt.xlabel('Agility')\n",
    "plt.ylabel('Speed')\n",
    "plt.legend()\n",
    "plt.title('KD-Tree Nearest Neighbors')"
   ]
  },
  {
   "cell_type": "code",
   "execution_count": 30,
   "id": "546dffdf",
   "metadata": {},
   "outputs": [],
   "source": [
    "plt.show()"
   ]
  },
  {
   "cell_type": "code",
   "execution_count": null,
   "id": "99f0b49b",
   "metadata": {},
   "outputs": [],
   "source": []
  }
 ],
 "metadata": {
  "kernelspec": {
   "display_name": "Python 3 (ipykernel)",
   "language": "python",
   "name": "python3"
  },
  "language_info": {
   "codemirror_mode": {
    "name": "ipython",
    "version": 3
   },
   "file_extension": ".py",
   "mimetype": "text/x-python",
   "name": "python",
   "nbconvert_exporter": "python",
   "pygments_lexer": "ipython3",
   "version": "3.11.5"
  }
 },
 "nbformat": 4,
 "nbformat_minor": 5
}
